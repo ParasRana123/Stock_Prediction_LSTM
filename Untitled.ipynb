{
 "cells": [
  {
   "cell_type": "code",
   "execution_count": 1,
   "id": "91cdfcf1",
   "metadata": {},
   "outputs": [
    {
     "name": "stdout",
     "output_type": "stream",
     "text": [
      "Requirement already satisfied: pandas_datareader in c:\\users\\paras rana\\appdata\\local\\programs\\python\\python37\\lib\\site-packages (0.10.0)\n",
      "Requirement already satisfied: lxml in c:\\users\\paras rana\\appdata\\local\\programs\\python\\python37\\lib\\site-packages (from pandas_datareader) (5.2.2)\n",
      "Requirement already satisfied: pandas>=0.23 in c:\\users\\paras rana\\appdata\\local\\programs\\python\\python37\\lib\\site-packages (from pandas_datareader) (1.3.5)\n",
      "Requirement already satisfied: requests>=2.19.0 in c:\\users\\paras rana\\appdata\\local\\programs\\python\\python37\\lib\\site-packages (from pandas_datareader) (2.31.0)\n",
      "Requirement already satisfied: python-dateutil>=2.7.3 in c:\\users\\paras rana\\appdata\\local\\programs\\python\\python37\\lib\\site-packages (from pandas>=0.23->pandas_datareader) (2.9.0.post0)\n",
      "Requirement already satisfied: pytz>=2017.3 in c:\\users\\paras rana\\appdata\\local\\programs\\python\\python37\\lib\\site-packages (from pandas>=0.23->pandas_datareader) (2024.1)\n",
      "Requirement already satisfied: numpy>=1.17.3 in c:\\users\\paras rana\\appdata\\local\\programs\\python\\python37\\lib\\site-packages (from pandas>=0.23->pandas_datareader) (1.18.5)\n",
      "Requirement already satisfied: charset-normalizer<4,>=2 in c:\\users\\paras rana\\appdata\\local\\programs\\python\\python37\\lib\\site-packages (from requests>=2.19.0->pandas_datareader) (3.3.2)\n",
      "Requirement already satisfied: idna<4,>=2.5 in c:\\users\\paras rana\\appdata\\local\\programs\\python\\python37\\lib\\site-packages (from requests>=2.19.0->pandas_datareader) (3.7)\n",
      "Requirement already satisfied: urllib3<3,>=1.21.1 in c:\\users\\paras rana\\appdata\\local\\programs\\python\\python37\\lib\\site-packages (from requests>=2.19.0->pandas_datareader) (1.26.19)\n",
      "Requirement already satisfied: certifi>=2017.4.17 in c:\\users\\paras rana\\appdata\\local\\programs\\python\\python37\\lib\\site-packages (from requests>=2.19.0->pandas_datareader) (2024.7.4)\n",
      "Requirement already satisfied: six>=1.5 in c:\\users\\paras rana\\appdata\\local\\programs\\python\\python37\\lib\\site-packages (from python-dateutil>=2.7.3->pandas>=0.23->pandas_datareader) (1.16.0)\n"
     ]
    },
    {
     "name": "stderr",
     "output_type": "stream",
     "text": [
      "WARNING: Ignoring invalid distribution -rotobuf (c:\\users\\paras rana\\appdata\\local\\programs\\python\\python37\\lib\\site-packages)\n",
      "WARNING: Ignoring invalid distribution -rotobuf (c:\\users\\paras rana\\appdata\\local\\programs\\python\\python37\\lib\\site-packages)\n"
     ]
    }
   ],
   "source": [
    "!pip install pandas_datareader"
   ]
  },
  {
   "cell_type": "code",
   "execution_count": 3,
   "id": "c31a77f4",
   "metadata": {},
   "outputs": [],
   "source": [
    "import pandas_datareader as pdr"
   ]
  },
  {
   "cell_type": "code",
   "execution_count": 6,
   "id": "9298716a",
   "metadata": {},
   "outputs": [
    {
     "name": "stderr",
     "output_type": "stream",
     "text": [
      "c:\\users\\paras rana\\appdata\\local\\programs\\python\\python37\\lib\\site-packages\\pandas_datareader\\tiingo.py:234: FutureWarning: In a future version of pandas all arguments of concat except for the argument 'objs' will be keyword-only\n",
      "  return pd.concat(dfs, self._concat_axis)\n"
     ]
    }
   ],
   "source": [
    "df = pdr.get_data_tiingo(\"AAPL\", api_key=\"1c18833cbb7491532fdf0eacc76ac6d82e426b1c\")"
   ]
  },
  {
   "cell_type": "code",
   "execution_count": 7,
   "id": "99777f6c",
   "metadata": {},
   "outputs": [],
   "source": [
    "df.to_csv(\"AAPL.csv\")"
   ]
  },
  {
   "cell_type": "code",
   "execution_count": 8,
   "id": "0d05486c",
   "metadata": {},
   "outputs": [],
   "source": [
    "import pandas as pd"
   ]
  },
  {
   "cell_type": "code",
   "execution_count": 9,
   "id": "9e55b0c9",
   "metadata": {},
   "outputs": [],
   "source": [
    "df = pd.read_csv(\"AAPL.csv\")"
   ]
  },
  {
   "cell_type": "code",
   "execution_count": 10,
   "id": "7114d2f6",
   "metadata": {},
   "outputs": [
    {
     "data": {
      "text/html": [
       "<div>\n",
       "<style scoped>\n",
       "    .dataframe tbody tr th:only-of-type {\n",
       "        vertical-align: middle;\n",
       "    }\n",
       "\n",
       "    .dataframe tbody tr th {\n",
       "        vertical-align: top;\n",
       "    }\n",
       "\n",
       "    .dataframe thead th {\n",
       "        text-align: right;\n",
       "    }\n",
       "</style>\n",
       "<table border=\"1\" class=\"dataframe\">\n",
       "  <thead>\n",
       "    <tr style=\"text-align: right;\">\n",
       "      <th></th>\n",
       "      <th>symbol</th>\n",
       "      <th>date</th>\n",
       "      <th>close</th>\n",
       "      <th>high</th>\n",
       "      <th>low</th>\n",
       "      <th>open</th>\n",
       "      <th>volume</th>\n",
       "      <th>adjClose</th>\n",
       "      <th>adjHigh</th>\n",
       "      <th>adjLow</th>\n",
       "      <th>adjOpen</th>\n",
       "      <th>adjVolume</th>\n",
       "      <th>divCash</th>\n",
       "      <th>splitFactor</th>\n",
       "    </tr>\n",
       "  </thead>\n",
       "  <tbody>\n",
       "    <tr>\n",
       "      <th>0</th>\n",
       "      <td>AAPL</td>\n",
       "      <td>2020-04-21 00:00:00+00:00</td>\n",
       "      <td>268.37</td>\n",
       "      <td>277.25</td>\n",
       "      <td>265.43</td>\n",
       "      <td>276.28</td>\n",
       "      <td>45247893</td>\n",
       "      <td>65.131122</td>\n",
       "      <td>67.286222</td>\n",
       "      <td>64.417609</td>\n",
       "      <td>67.050811</td>\n",
       "      <td>180991572</td>\n",
       "      <td>0.0</td>\n",
       "      <td>1.0</td>\n",
       "    </tr>\n",
       "    <tr>\n",
       "      <th>1</th>\n",
       "      <td>AAPL</td>\n",
       "      <td>2020-04-22 00:00:00+00:00</td>\n",
       "      <td>276.10</td>\n",
       "      <td>277.90</td>\n",
       "      <td>272.20</td>\n",
       "      <td>273.61</td>\n",
       "      <td>29264342</td>\n",
       "      <td>67.007127</td>\n",
       "      <td>67.443972</td>\n",
       "      <td>66.060630</td>\n",
       "      <td>66.402825</td>\n",
       "      <td>117057368</td>\n",
       "      <td>0.0</td>\n",
       "      <td>1.0</td>\n",
       "    </tr>\n",
       "    <tr>\n",
       "      <th>2</th>\n",
       "      <td>AAPL</td>\n",
       "      <td>2020-04-23 00:00:00+00:00</td>\n",
       "      <td>275.03</td>\n",
       "      <td>281.75</td>\n",
       "      <td>274.87</td>\n",
       "      <td>275.87</td>\n",
       "      <td>31203582</td>\n",
       "      <td>66.747447</td>\n",
       "      <td>68.378334</td>\n",
       "      <td>66.708616</td>\n",
       "      <td>66.951308</td>\n",
       "      <td>124814328</td>\n",
       "      <td>0.0</td>\n",
       "      <td>1.0</td>\n",
       "    </tr>\n",
       "    <tr>\n",
       "      <th>3</th>\n",
       "      <td>AAPL</td>\n",
       "      <td>2020-04-24 00:00:00+00:00</td>\n",
       "      <td>282.97</td>\n",
       "      <td>283.01</td>\n",
       "      <td>277.00</td>\n",
       "      <td>277.20</td>\n",
       "      <td>31627183</td>\n",
       "      <td>68.674418</td>\n",
       "      <td>68.684125</td>\n",
       "      <td>67.225549</td>\n",
       "      <td>67.274088</td>\n",
       "      <td>126508732</td>\n",
       "      <td>0.0</td>\n",
       "      <td>1.0</td>\n",
       "    </tr>\n",
       "    <tr>\n",
       "      <th>4</th>\n",
       "      <td>AAPL</td>\n",
       "      <td>2020-04-27 00:00:00+00:00</td>\n",
       "      <td>283.17</td>\n",
       "      <td>284.54</td>\n",
       "      <td>279.95</td>\n",
       "      <td>281.80</td>\n",
       "      <td>29271893</td>\n",
       "      <td>68.722956</td>\n",
       "      <td>69.055443</td>\n",
       "      <td>67.941489</td>\n",
       "      <td>68.390469</td>\n",
       "      <td>117087572</td>\n",
       "      <td>0.0</td>\n",
       "      <td>1.0</td>\n",
       "    </tr>\n",
       "  </tbody>\n",
       "</table>\n",
       "</div>"
      ],
      "text/plain": [
       "  symbol                       date   close    high     low    open    volume  \\\n",
       "0   AAPL  2020-04-21 00:00:00+00:00  268.37  277.25  265.43  276.28  45247893   \n",
       "1   AAPL  2020-04-22 00:00:00+00:00  276.10  277.90  272.20  273.61  29264342   \n",
       "2   AAPL  2020-04-23 00:00:00+00:00  275.03  281.75  274.87  275.87  31203582   \n",
       "3   AAPL  2020-04-24 00:00:00+00:00  282.97  283.01  277.00  277.20  31627183   \n",
       "4   AAPL  2020-04-27 00:00:00+00:00  283.17  284.54  279.95  281.80  29271893   \n",
       "\n",
       "    adjClose    adjHigh     adjLow    adjOpen  adjVolume  divCash  splitFactor  \n",
       "0  65.131122  67.286222  64.417609  67.050811  180991572      0.0          1.0  \n",
       "1  67.007127  67.443972  66.060630  66.402825  117057368      0.0          1.0  \n",
       "2  66.747447  68.378334  66.708616  66.951308  124814328      0.0          1.0  \n",
       "3  68.674418  68.684125  67.225549  67.274088  126508732      0.0          1.0  \n",
       "4  68.722956  69.055443  67.941489  68.390469  117087572      0.0          1.0  "
      ]
     },
     "execution_count": 10,
     "metadata": {},
     "output_type": "execute_result"
    }
   ],
   "source": [
    "df.head()"
   ]
  },
  {
   "cell_type": "code",
   "execution_count": 15,
   "id": "0c278fd1",
   "metadata": {},
   "outputs": [
    {
     "data": {
      "text/html": [
       "<div>\n",
       "<style scoped>\n",
       "    .dataframe tbody tr th:only-of-type {\n",
       "        vertical-align: middle;\n",
       "    }\n",
       "\n",
       "    .dataframe tbody tr th {\n",
       "        vertical-align: top;\n",
       "    }\n",
       "\n",
       "    .dataframe thead th {\n",
       "        text-align: right;\n",
       "    }\n",
       "</style>\n",
       "<table border=\"1\" class=\"dataframe\">\n",
       "  <thead>\n",
       "    <tr style=\"text-align: right;\">\n",
       "      <th></th>\n",
       "      <th>symbol</th>\n",
       "      <th>date</th>\n",
       "      <th>close</th>\n",
       "      <th>high</th>\n",
       "      <th>low</th>\n",
       "      <th>open</th>\n",
       "      <th>volume</th>\n",
       "      <th>adjClose</th>\n",
       "      <th>adjHigh</th>\n",
       "      <th>adjLow</th>\n",
       "      <th>adjOpen</th>\n",
       "      <th>adjVolume</th>\n",
       "      <th>divCash</th>\n",
       "      <th>splitFactor</th>\n",
       "    </tr>\n",
       "  </thead>\n",
       "  <tbody>\n",
       "    <tr>\n",
       "      <th>1251</th>\n",
       "      <td>AAPL</td>\n",
       "      <td>2025-04-11 00:00:00+00:00</td>\n",
       "      <td>198.15</td>\n",
       "      <td>199.5400</td>\n",
       "      <td>186.0600</td>\n",
       "      <td>186.100</td>\n",
       "      <td>87435915</td>\n",
       "      <td>198.15</td>\n",
       "      <td>199.5400</td>\n",
       "      <td>186.0600</td>\n",
       "      <td>186.100</td>\n",
       "      <td>87435915</td>\n",
       "      <td>0.0</td>\n",
       "      <td>1.0</td>\n",
       "    </tr>\n",
       "    <tr>\n",
       "      <th>1252</th>\n",
       "      <td>AAPL</td>\n",
       "      <td>2025-04-14 00:00:00+00:00</td>\n",
       "      <td>202.52</td>\n",
       "      <td>212.9400</td>\n",
       "      <td>201.1621</td>\n",
       "      <td>211.440</td>\n",
       "      <td>101352911</td>\n",
       "      <td>202.52</td>\n",
       "      <td>212.9400</td>\n",
       "      <td>201.1621</td>\n",
       "      <td>211.440</td>\n",
       "      <td>101352911</td>\n",
       "      <td>0.0</td>\n",
       "      <td>1.0</td>\n",
       "    </tr>\n",
       "    <tr>\n",
       "      <th>1253</th>\n",
       "      <td>AAPL</td>\n",
       "      <td>2025-04-15 00:00:00+00:00</td>\n",
       "      <td>202.14</td>\n",
       "      <td>203.5100</td>\n",
       "      <td>199.8000</td>\n",
       "      <td>201.855</td>\n",
       "      <td>51343872</td>\n",
       "      <td>202.14</td>\n",
       "      <td>203.5100</td>\n",
       "      <td>199.8000</td>\n",
       "      <td>201.855</td>\n",
       "      <td>51343872</td>\n",
       "      <td>0.0</td>\n",
       "      <td>1.0</td>\n",
       "    </tr>\n",
       "    <tr>\n",
       "      <th>1254</th>\n",
       "      <td>AAPL</td>\n",
       "      <td>2025-04-16 00:00:00+00:00</td>\n",
       "      <td>194.27</td>\n",
       "      <td>200.7000</td>\n",
       "      <td>192.3700</td>\n",
       "      <td>198.360</td>\n",
       "      <td>59732423</td>\n",
       "      <td>194.27</td>\n",
       "      <td>200.7000</td>\n",
       "      <td>192.3700</td>\n",
       "      <td>198.360</td>\n",
       "      <td>59732423</td>\n",
       "      <td>0.0</td>\n",
       "      <td>1.0</td>\n",
       "    </tr>\n",
       "    <tr>\n",
       "      <th>1255</th>\n",
       "      <td>AAPL</td>\n",
       "      <td>2025-04-17 00:00:00+00:00</td>\n",
       "      <td>196.98</td>\n",
       "      <td>198.8335</td>\n",
       "      <td>194.4200</td>\n",
       "      <td>197.200</td>\n",
       "      <td>52164675</td>\n",
       "      <td>196.98</td>\n",
       "      <td>198.8335</td>\n",
       "      <td>194.4200</td>\n",
       "      <td>197.200</td>\n",
       "      <td>52164675</td>\n",
       "      <td>0.0</td>\n",
       "      <td>1.0</td>\n",
       "    </tr>\n",
       "  </tbody>\n",
       "</table>\n",
       "</div>"
      ],
      "text/plain": [
       "     symbol                       date   close      high       low     open  \\\n",
       "1251   AAPL  2025-04-11 00:00:00+00:00  198.15  199.5400  186.0600  186.100   \n",
       "1252   AAPL  2025-04-14 00:00:00+00:00  202.52  212.9400  201.1621  211.440   \n",
       "1253   AAPL  2025-04-15 00:00:00+00:00  202.14  203.5100  199.8000  201.855   \n",
       "1254   AAPL  2025-04-16 00:00:00+00:00  194.27  200.7000  192.3700  198.360   \n",
       "1255   AAPL  2025-04-17 00:00:00+00:00  196.98  198.8335  194.4200  197.200   \n",
       "\n",
       "         volume  adjClose   adjHigh    adjLow  adjOpen  adjVolume  divCash  \\\n",
       "1251   87435915    198.15  199.5400  186.0600  186.100   87435915      0.0   \n",
       "1252  101352911    202.52  212.9400  201.1621  211.440  101352911      0.0   \n",
       "1253   51343872    202.14  203.5100  199.8000  201.855   51343872      0.0   \n",
       "1254   59732423    194.27  200.7000  192.3700  198.360   59732423      0.0   \n",
       "1255   52164675    196.98  198.8335  194.4200  197.200   52164675      0.0   \n",
       "\n",
       "      splitFactor  \n",
       "1251          1.0  \n",
       "1252          1.0  \n",
       "1253          1.0  \n",
       "1254          1.0  \n",
       "1255          1.0  "
      ]
     },
     "execution_count": 15,
     "metadata": {},
     "output_type": "execute_result"
    }
   ],
   "source": [
    "df.tail()"
   ]
  },
  {
   "cell_type": "code",
   "execution_count": 11,
   "id": "371ce2f8",
   "metadata": {},
   "outputs": [],
   "source": [
    "df1 = df.reset_index()['close']"
   ]
  },
  {
   "cell_type": "code",
   "execution_count": 13,
   "id": "c3b00e0a",
   "metadata": {},
   "outputs": [
    {
     "data": {
      "text/plain": [
       "(1256,)"
      ]
     },
     "execution_count": 13,
     "metadata": {},
     "output_type": "execute_result"
    }
   ],
   "source": [
    "df1.shape"
   ]
  },
  {
   "cell_type": "code",
   "execution_count": 16,
   "id": "7ec8511a",
   "metadata": {},
   "outputs": [
    {
     "data": {
      "text/plain": [
       "0       268.37\n",
       "1       276.10\n",
       "2       275.03\n",
       "3       282.97\n",
       "4       283.17\n",
       "         ...  \n",
       "1251    198.15\n",
       "1252    202.52\n",
       "1253    202.14\n",
       "1254    194.27\n",
       "1255    196.98\n",
       "Name: close, Length: 1256, dtype: float64"
      ]
     },
     "execution_count": 16,
     "metadata": {},
     "output_type": "execute_result"
    }
   ],
   "source": [
    "df1"
   ]
  },
  {
   "cell_type": "code",
   "execution_count": 17,
   "id": "84561c49",
   "metadata": {},
   "outputs": [
    {
     "data": {
      "text/plain": [
       "[<matplotlib.lines.Line2D at 0x22a63d1a608>]"
      ]
     },
     "execution_count": 17,
     "metadata": {},
     "output_type": "execute_result"
    },
    {
     "data": {
      "image/png": "[encoded data removed]",
      "text/plain": [
       "<Figure size 640x480 with 1 Axes>"
      ]
     },
     "metadata": {},
     "output_type": "display_data"
    }
   ],
   "source": [
    "import matplotlib.pyplot as plt\n",
    "plt.plot(df1)"
   ]
  },
  {
   "cell_type": "code",
   "execution_count": 19,
   "id": "3f3d4605",
   "metadata": {},
   "outputs": [],
   "source": [
    "import numpy as np"
   ]
  },
  {
   "cell_type": "code",
   "execution_count": 20,
   "id": "b006ea95",
   "metadata": {},
   "outputs": [],
   "source": [
    "from sklearn.preprocessing import MinMaxScaler\n",
    "scaler = MinMaxScaler(feature_range=(0 , 1))\n",
    "df1 = scaler.fit_transform(np.array(df1).reshape(-1 , 1))"
   ]
  },
  {
   "cell_type": "code",
   "execution_count": 21,
   "id": "97cd2ba3",
   "metadata": {},
   "outputs": [
    {
     "data": {
      "text/plain": [
       "(1256, 1)"
      ]
     },
     "execution_count": 21,
     "metadata": {},
     "output_type": "execute_result"
    }
   ],
   "source": [
    "df1.shape"
   ]
  },
  {
   "cell_type": "code",
   "execution_count": 22,
   "id": "06af86b0",
   "metadata": {},
   "outputs": [
    {
     "data": {
      "text/plain": [
       "array([[0.40458359],\n",
       "       [0.4239449 ],\n",
       "       [0.42126487],\n",
       "       ...,\n",
       "       [0.23869756],\n",
       "       [0.2189856 ],\n",
       "       [0.22577332]])"
      ]
     },
     "execution_count": 22,
     "metadata": {},
     "output_type": "execute_result"
    }
   ],
   "source": [
    "df1"
   ]
  },
  {
   "cell_type": "code",
   "execution_count": 25,
   "id": "bf6f8994",
   "metadata": {},
   "outputs": [],
   "source": [
    "# Splitting the dataset into train and test data\n",
    "training_size = int(len(df1)*0.65)\n",
    "test_size = len(df1) - training_size\n",
    "train_data , test_data = df1[0 : training_size , :] , df1[training_size : len(df1) , : 1]"
   ]
  },
  {
   "cell_type": "code",
   "execution_count": 28,
   "id": "64abe72b",
   "metadata": {},
   "outputs": [],
   "source": [
    "import numpy\n",
    "# convert an array of values into a dataset matrix\n",
    "def create_dataset(dataset, time_step=1):\n",
    "\tdataX, dataY = [], []\n",
    "\tfor i in range(len(dataset)-time_step-1):\n",
    "\t\ta = dataset[i:(i+time_step), 0]   ###i=0, 0,1,2,3-----99   100 \n",
    "\t\tdataX.append(a)\n",
    "\t\tdataY.append(dataset[i + time_step, 0])\n",
    "\treturn numpy.array(dataX), numpy.array(dataY)"
   ]
  },
  {
   "cell_type": "code",
   "execution_count": 29,
   "id": "39114136",
   "metadata": {},
   "outputs": [],
   "source": [
    "time_step = 100\n",
    "X_train , Y_train = create_dataset(train_data , time_step)\n",
    "X_test , Y_test = create_dataset(test_data , time_step)"
   ]
  },
  {
   "cell_type": "code",
   "execution_count": 30,
   "id": "ccc365a9",
   "metadata": {},
   "outputs": [
    {
     "name": "stdout",
     "output_type": "stream",
     "text": [
      "[[0.40458359 0.4239449  0.42126487 ... 0.01497808 0.02624922 0.01665623]\n",
      " [0.4239449  0.42126487 0.44115216 ... 0.02624922 0.01665623 0.01292423]\n",
      " [0.42126487 0.44115216 0.4416531  ... 0.01665623 0.01292423 0.02132749]\n",
      " ...\n",
      " [0.11739512 0.11448967 0.10429555 ... 0.20480902 0.20348153 0.20771446]\n",
      " [0.11448967 0.10429555 0.10537257 ... 0.20348153 0.20771446 0.20964308]\n",
      " [0.10429555 0.10537257 0.10659987 ... 0.20771446 0.20964308 0.21001879]]\n"
     ]
    }
   ],
   "source": [
    "print(X_train)"
   ]
  },
  {
   "cell_type": "code",
   "execution_count": 31,
   "id": "fdb1ba73",
   "metadata": {},
   "outputs": [
    {
     "name": "stdout",
     "output_type": "stream",
     "text": [
      "(715, 100)\n",
      "(715,)\n"
     ]
    },
    {
     "data": {
      "text/plain": [
       "(None, None)"
      ]
     },
     "execution_count": 31,
     "metadata": {},
     "output_type": "execute_result"
    }
   ],
   "source": [
    "print(X_train.shape) , print(Y_train.shape)"
   ]
  },
  {
   "cell_type": "code",
   "execution_count": 33,
   "id": "10a9542b",
   "metadata": {},
   "outputs": [
    {
     "name": "stdout",
     "output_type": "stream",
     "text": [
      "(339, 100)\n",
      "(339,)\n"
     ]
    },
    {
     "data": {
      "text/plain": [
       "(None, None)"
      ]
     },
     "execution_count": 33,
     "metadata": {},
     "output_type": "execute_result"
    }
   ],
   "source": [
    "print(X_test.shape) , print(Y_test.shape)"
   ]
  },
  {
   "cell_type": "code",
   "execution_count": 34,
   "id": "0ec01629",
   "metadata": {},
   "outputs": [],
   "source": [
    "# reshape input to be [samples, time steps, features] which is required for LSTM\n",
    "X_train =X_train.reshape(X_train.shape[0],X_train.shape[1] , 1)\n",
    "X_test = X_test.reshape(X_test.shape[0],X_test.shape[1] , 1)"
   ]
  },
  {
   "cell_type": "code",
   "execution_count": 35,
   "id": "a28dbf4c",
   "metadata": {},
   "outputs": [],
   "source": [
    "from tensorflow.keras.models import Sequential\n",
    "from tensorflow.keras.layers import Dense\n",
    "from tensorflow.keras.layers import LSTM"
   ]
  },
  {
   "cell_type": "code",
   "execution_count": 36,
   "id": "e59e4032",
   "metadata": {},
   "outputs": [],
   "source": [
    "model = Sequential()\n",
    "model.add(LSTM(50,return_sequences=True,input_shape=(100,1)))\n",
    "model.add(LSTM(50,return_sequences=True))\n",
    "model.add(LSTM(50))\n",
    "model.add(Dense(1))\n",
    "model.compile(loss='mean_squared_error',optimizer='adam')"
   ]
  },
  {
   "cell_type": "code",
   "execution_count": null,
   "id": "3d24e248",
   "metadata": {},
   "outputs": [],
   "source": []
  }
 ],
 "metadata": {
  "kernelspec": {
   "display_name": "Python 3 (ipykernel)",
   "language": "python",
   "name": "python3"
  },
  "language_info": {
   "codemirror_mode": {
    "name": "ipython",
    "version": 3
   },
   "file_extension": ".py",
   "mimetype": "text/x-python",
   "name": "python",
   "nbconvert_exporter": "python",
   "pygments_lexer": "ipython3",
   "version": "3.7.9"
  }
 },
 "nbformat": 4,
 "nbformat_minor": 5
}
