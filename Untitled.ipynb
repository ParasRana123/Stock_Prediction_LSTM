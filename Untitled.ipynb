{
 "cells": [
  {
   "cell_type": "code",
   "execution_count": 1,
   "id": "91cdfcf1",
   "metadata": {},
   "outputs": [
    {
     "name": "stdout",
     "output_type": "stream",
     "text": [
      "Requirement already satisfied: pandas_datareader in c:\\users\\paras rana\\appdata\\local\\programs\\python\\python37\\lib\\site-packages (0.10.0)\n",
      "Requirement already satisfied: lxml in c:\\users\\paras rana\\appdata\\local\\programs\\python\\python37\\lib\\site-packages (from pandas_datareader) (5.2.2)\n",
      "Requirement already satisfied: pandas>=0.23 in c:\\users\\paras rana\\appdata\\local\\programs\\python\\python37\\lib\\site-packages (from pandas_datareader) (1.3.5)\n",
      "Requirement already satisfied: requests>=2.19.0 in c:\\users\\paras rana\\appdata\\local\\programs\\python\\python37\\lib\\site-packages (from pandas_datareader) (2.31.0)\n",
      "Requirement already satisfied: python-dateutil>=2.7.3 in c:\\users\\paras rana\\appdata\\local\\programs\\python\\python37\\lib\\site-packages (from pandas>=0.23->pandas_datareader) (2.9.0.post0)\n",
      "Requirement already satisfied: pytz>=2017.3 in c:\\users\\paras rana\\appdata\\local\\programs\\python\\python37\\lib\\site-packages (from pandas>=0.23->pandas_datareader) (2024.1)\n",
      "Requirement already satisfied: numpy>=1.17.3 in c:\\users\\paras rana\\appdata\\local\\programs\\python\\python37\\lib\\site-packages (from pandas>=0.23->pandas_datareader) (1.18.5)\n",
      "Requirement already satisfied: charset-normalizer<4,>=2 in c:\\users\\paras rana\\appdata\\local\\programs\\python\\python37\\lib\\site-packages (from requests>=2.19.0->pandas_datareader) (3.3.2)\n",
      "Requirement already satisfied: idna<4,>=2.5 in c:\\users\\paras rana\\appdata\\local\\programs\\python\\python37\\lib\\site-packages (from requests>=2.19.0->pandas_datareader) (3.7)\n",
      "Requirement already satisfied: urllib3<3,>=1.21.1 in c:\\users\\paras rana\\appdata\\local\\programs\\python\\python37\\lib\\site-packages (from requests>=2.19.0->pandas_datareader) (1.26.19)\n",
      "Requirement already satisfied: certifi>=2017.4.17 in c:\\users\\paras rana\\appdata\\local\\programs\\python\\python37\\lib\\site-packages (from requests>=2.19.0->pandas_datareader) (2024.7.4)\n",
      "Requirement already satisfied: six>=1.5 in c:\\users\\paras rana\\appdata\\local\\programs\\python\\python37\\lib\\site-packages (from python-dateutil>=2.7.3->pandas>=0.23->pandas_datareader) (1.16.0)\n"
     ]
    },
    {
     "name": "stderr",
     "output_type": "stream",
     "text": [
      "WARNING: Ignoring invalid distribution -rotobuf (c:\\users\\paras rana\\appdata\\local\\programs\\python\\python37\\lib\\site-packages)\n",
      "WARNING: Ignoring invalid distribution -rotobuf (c:\\users\\paras rana\\appdata\\local\\programs\\python\\python37\\lib\\site-packages)\n"
     ]
    }
   ],
   "source": [
    "!pip install pandas_datareader"
   ]
  },
  {
   "cell_type": "code",
   "execution_count": 3,
   "id": "c31a77f4",
   "metadata": {},
   "outputs": [],
   "source": [
    "import pandas_datareader as pdr"
   ]
  },
  {
   "cell_type": "code",
   "execution_count": 5,
   "id": "9298716a",
   "metadata": {},
   "outputs": [
    {
     "ename": "SyntaxError",
     "evalue": "invalid syntax (848193652.py, line 1)",
     "output_type": "error",
     "traceback": [
      "\u001b[1;36m  File \u001b[1;32m\"C:\\Users\\Paras Rana\\AppData\\Local\\Temp\\ipykernel_21584\\848193652.py\"\u001b[1;36m, line \u001b[1;32m1\u001b[0m\n\u001b[1;33m    df = pdr.get_data_tiingo(\"AAPL\" , api_key=1c18833cbb7491532fdf0eacc76ac6d82e426b1c)\u001b[0m\n\u001b[1;37m                                                                                     ^\u001b[0m\n\u001b[1;31mSyntaxError\u001b[0m\u001b[1;31m:\u001b[0m invalid syntax\n"
     ]
    }
   ],
   "source": [
    "df = pdr.get_data_tiingo(\"AAPL\" , api_key=1c18833cbb7491532fdf0eacc76ac6d82e426b1c)"
   ]
  },
  {
   "cell_type": "code",
   "execution_count": null,
   "id": "99777f6c",
   "metadata": {},
   "outputs": [],
   "source": []
  }
 ],
 "metadata": {
  "kernelspec": {
   "display_name": "Python 3 (ipykernel)",
   "language": "python",
   "name": "python3"
  },
  "language_info": {
   "codemirror_mode": {
    "name": "ipython",
    "version": 3
   },
   "file_extension": ".py",
   "mimetype": "text/x-python",
   "name": "python",
   "nbconvert_exporter": "python",
   "pygments_lexer": "ipython3",
   "version": "3.7.9"
  }
 },
 "nbformat": 4,
 "nbformat_minor": 5
}
